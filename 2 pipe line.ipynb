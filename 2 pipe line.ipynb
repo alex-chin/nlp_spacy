{
 "cells": [
  {
   "cell_type": "markdown",
   "source": [
    "# Конвейер обработки текста"
   ],
   "metadata": {
    "collapsed": false
   },
   "id": "7fc672c265175af9"
  },
  {
   "cell_type": "markdown",
   "source": [
    "## Настройка рабочей среды"
   ],
   "metadata": {
    "collapsed": false
   },
   "id": "707295d5e43d1573"
  },
  {
   "cell_type": "code",
   "execution_count": 1,
   "id": "initial_id",
   "metadata": {
    "collapsed": true,
    "ExecuteTime": {
     "end_time": "2023-11-26T18:14:06.227645Z",
     "start_time": "2023-11-26T18:14:04.718749200Z"
    }
   },
   "outputs": [
    {
     "name": "stdout",
     "output_type": "stream",
     "text": [
      "\u001B[1m\n",
      "============================== Info about spaCy ==============================\u001B[0m\n",
      "\n",
      "spaCy version    3.7.2                         \n",
      "Location         C:\\project\\nlp_spacy\\venv\\Lib\\site-packages\\spacy\n",
      "Platform         Windows-10-10.0.19045-SP0     \n",
      "Python version   3.11.0                        \n",
      "Pipelines                                      \n"
     ]
    }
   ],
   "source": [
    "!python -m spacy info"
   ]
  },
  {
   "cell_type": "markdown",
   "source": [
    "[!] As of spaCy v3.0, shortcuts like 'en' are deprecated. Please use\n",
    "the full pipeline package name 'en_core_web_sm' instead."
   ],
   "metadata": {
    "collapsed": false
   },
   "id": "ae9bace1f03f669d"
  },
  {
   "cell_type": "code",
   "execution_count": 2,
   "outputs": [
    {
     "name": "stdout",
     "output_type": "stream",
     "text": [
      "Collecting en-core-web-sm==3.7.1\n",
      "  Downloading https://github.com/explosion/spacy-models/releases/download/en_core_web_sm-3.7.1/en_core_web_sm-3.7.1-py3-none-any.whl (12.8 MB)\n",
      "     ---------------------------------------- 0.0/12.8 MB ? eta -:--:--\n",
      "     ---------------------------------------- 0.1/12.8 MB 1.1 MB/s eta 0:00:12\n",
      "     --------------------------------------- 0.1/12.8 MB 837.8 kB/s eta 0:00:16\n",
      "      --------------------------------------- 0.2/12.8 MB 1.4 MB/s eta 0:00:10\n",
      "      --------------------------------------- 0.3/12.8 MB 1.3 MB/s eta 0:00:10\n",
      "     - -------------------------------------- 0.3/12.8 MB 1.5 MB/s eta 0:00:09\n",
      "     - -------------------------------------- 0.5/12.8 MB 1.7 MB/s eta 0:00:08\n",
      "     - -------------------------------------- 0.6/12.8 MB 1.9 MB/s eta 0:00:07\n",
      "     - -------------------------------------- 0.6/12.8 MB 1.8 MB/s eta 0:00:07\n",
      "     -- ------------------------------------- 0.7/12.8 MB 1.8 MB/s eta 0:00:07\n",
      "     -- ------------------------------------- 0.8/12.8 MB 1.8 MB/s eta 0:00:07\n",
      "     -- ------------------------------------- 0.8/12.8 MB 1.9 MB/s eta 0:00:07\n",
      "     -- ------------------------------------- 0.9/12.8 MB 1.8 MB/s eta 0:00:07\n",
      "     --- ------------------------------------ 1.0/12.8 MB 1.8 MB/s eta 0:00:07\n",
      "     --- ------------------------------------ 1.0/12.8 MB 1.7 MB/s eta 0:00:07\n",
      "     --- ------------------------------------ 1.1/12.8 MB 1.7 MB/s eta 0:00:08\n",
      "     --- ------------------------------------ 1.1/12.8 MB 1.6 MB/s eta 0:00:08\n",
      "     --- ------------------------------------ 1.2/12.8 MB 1.6 MB/s eta 0:00:08\n",
      "     --- ------------------------------------ 1.3/12.8 MB 1.6 MB/s eta 0:00:08\n",
      "     ---- ----------------------------------- 1.3/12.8 MB 1.6 MB/s eta 0:00:07\n",
      "     ---- ----------------------------------- 1.4/12.8 MB 1.6 MB/s eta 0:00:08\n",
      "     ---- ----------------------------------- 1.4/12.8 MB 1.6 MB/s eta 0:00:08\n",
      "     ---- ----------------------------------- 1.5/12.8 MB 1.6 MB/s eta 0:00:08\n",
      "     ---- ----------------------------------- 1.5/12.8 MB 1.6 MB/s eta 0:00:07\n",
      "     ----- ---------------------------------- 1.6/12.8 MB 1.6 MB/s eta 0:00:08\n",
      "     ----- ---------------------------------- 1.7/12.8 MB 1.6 MB/s eta 0:00:07\n",
      "     ----- ---------------------------------- 1.8/12.8 MB 1.6 MB/s eta 0:00:07\n",
      "     ----- ---------------------------------- 1.8/12.8 MB 1.6 MB/s eta 0:00:07\n",
      "     ----- ---------------------------------- 1.9/12.8 MB 1.6 MB/s eta 0:00:07\n",
      "     ------ --------------------------------- 1.9/12.8 MB 1.6 MB/s eta 0:00:07\n",
      "     ------ --------------------------------- 2.0/12.8 MB 1.6 MB/s eta 0:00:07\n",
      "     ------ --------------------------------- 2.0/12.8 MB 1.6 MB/s eta 0:00:07\n",
      "     ------ --------------------------------- 2.0/12.8 MB 1.5 MB/s eta 0:00:07\n",
      "     ------ --------------------------------- 2.1/12.8 MB 1.5 MB/s eta 0:00:08\n",
      "     ------ --------------------------------- 2.1/12.8 MB 1.5 MB/s eta 0:00:08\n",
      "     ------ --------------------------------- 2.1/12.8 MB 1.4 MB/s eta 0:00:08\n",
      "     ------ --------------------------------- 2.1/12.8 MB 1.4 MB/s eta 0:00:08\n",
      "     ------ --------------------------------- 2.1/12.8 MB 1.4 MB/s eta 0:00:08\n",
      "     ------ --------------------------------- 2.2/12.8 MB 1.3 MB/s eta 0:00:08\n",
      "     ------- -------------------------------- 2.3/12.8 MB 1.4 MB/s eta 0:00:08\n",
      "     ------- -------------------------------- 2.3/12.8 MB 1.3 MB/s eta 0:00:08\n",
      "     ------- -------------------------------- 2.4/12.8 MB 1.3 MB/s eta 0:00:08\n",
      "     ------- -------------------------------- 2.4/12.8 MB 1.3 MB/s eta 0:00:08\n",
      "     ------- -------------------------------- 2.4/12.8 MB 1.3 MB/s eta 0:00:08\n",
      "     ------- -------------------------------- 2.5/12.8 MB 1.3 MB/s eta 0:00:08\n",
      "     ------- -------------------------------- 2.6/12.8 MB 1.3 MB/s eta 0:00:08\n",
      "     -------- ------------------------------- 2.6/12.8 MB 1.3 MB/s eta 0:00:08\n",
      "     -------- ------------------------------- 2.7/12.8 MB 1.3 MB/s eta 0:00:08\n",
      "     -------- ------------------------------- 2.7/12.8 MB 1.3 MB/s eta 0:00:08\n",
      "     -------- ------------------------------- 2.8/12.8 MB 1.3 MB/s eta 0:00:08\n",
      "     -------- ------------------------------- 2.8/12.8 MB 1.3 MB/s eta 0:00:08\n",
      "     -------- ------------------------------- 2.8/12.8 MB 1.3 MB/s eta 0:00:08\n",
      "     -------- ------------------------------- 2.9/12.8 MB 1.3 MB/s eta 0:00:08\n",
      "     --------- ------------------------------ 2.9/12.8 MB 1.3 MB/s eta 0:00:08\n",
      "     --------- ------------------------------ 3.0/12.8 MB 1.3 MB/s eta 0:00:08\n",
      "     --------- ------------------------------ 3.0/12.8 MB 1.3 MB/s eta 0:00:08\n",
      "     --------- ------------------------------ 3.1/12.8 MB 1.3 MB/s eta 0:00:08\n",
      "     --------- ------------------------------ 3.1/12.8 MB 1.3 MB/s eta 0:00:08\n",
      "     --------- ------------------------------ 3.2/12.8 MB 1.3 MB/s eta 0:00:08\n",
      "     --------- ------------------------------ 3.2/12.8 MB 1.3 MB/s eta 0:00:08\n",
      "     --------- ------------------------------ 3.2/12.8 MB 1.3 MB/s eta 0:00:08\n",
      "     ---------- ----------------------------- 3.2/12.8 MB 1.2 MB/s eta 0:00:08\n",
      "     ---------- ----------------------------- 3.2/12.8 MB 1.2 MB/s eta 0:00:08\n",
      "     ---------- ----------------------------- 3.2/12.8 MB 1.2 MB/s eta 0:00:08\n",
      "     ---------- ----------------------------- 3.3/12.8 MB 1.2 MB/s eta 0:00:08\n",
      "     ---------- ----------------------------- 3.3/12.8 MB 1.2 MB/s eta 0:00:08\n",
      "     ---------- ----------------------------- 3.3/12.8 MB 1.2 MB/s eta 0:00:08\n",
      "     ---------- ----------------------------- 3.3/12.8 MB 1.2 MB/s eta 0:00:08\n",
      "     ---------- ----------------------------- 3.3/12.8 MB 1.1 MB/s eta 0:00:09\n",
      "     ---------- ----------------------------- 3.4/12.8 MB 1.1 MB/s eta 0:00:09\n",
      "     ---------- ----------------------------- 3.4/12.8 MB 1.1 MB/s eta 0:00:09\n",
      "     ---------- ----------------------------- 3.5/12.8 MB 1.1 MB/s eta 0:00:09\n",
      "     ----------- ---------------------------- 3.6/12.8 MB 1.1 MB/s eta 0:00:09\n",
      "     ----------- ---------------------------- 3.6/12.8 MB 1.1 MB/s eta 0:00:09\n",
      "     ----------- ---------------------------- 3.6/12.8 MB 1.1 MB/s eta 0:00:09\n",
      "     ----------- ---------------------------- 3.7/12.8 MB 1.1 MB/s eta 0:00:09\n",
      "     ----------- ---------------------------- 3.7/12.8 MB 1.1 MB/s eta 0:00:09\n",
      "     ----------- ---------------------------- 3.7/12.8 MB 1.1 MB/s eta 0:00:09\n",
      "     ----------- ---------------------------- 3.8/12.8 MB 1.1 MB/s eta 0:00:09\n",
      "     ----------- ---------------------------- 3.8/12.8 MB 1.1 MB/s eta 0:00:09\n",
      "     ------------ --------------------------- 3.9/12.8 MB 1.1 MB/s eta 0:00:09\n",
      "     ------------ --------------------------- 3.9/12.8 MB 1.1 MB/s eta 0:00:09\n",
      "     ------------ --------------------------- 3.9/12.8 MB 1.1 MB/s eta 0:00:09\n",
      "     ------------ --------------------------- 4.0/12.8 MB 1.1 MB/s eta 0:00:08\n",
      "     ------------ --------------------------- 4.0/12.8 MB 1.1 MB/s eta 0:00:08\n",
      "     ------------ --------------------------- 4.0/12.8 MB 1.1 MB/s eta 0:00:09\n",
      "     ------------ --------------------------- 4.1/12.8 MB 1.1 MB/s eta 0:00:09\n",
      "     ------------ --------------------------- 4.1/12.8 MB 1.1 MB/s eta 0:00:08\n",
      "     ------------ --------------------------- 4.1/12.8 MB 1.1 MB/s eta 0:00:09\n",
      "     ------------- -------------------------- 4.2/12.8 MB 1.1 MB/s eta 0:00:08\n",
      "     ------------- -------------------------- 4.2/12.8 MB 1.1 MB/s eta 0:00:08\n",
      "     ------------- -------------------------- 4.3/12.8 MB 1.1 MB/s eta 0:00:08\n",
      "     ------------- -------------------------- 4.3/12.8 MB 1.1 MB/s eta 0:00:08\n",
      "     ------------- -------------------------- 4.3/12.8 MB 1.1 MB/s eta 0:00:08\n",
      "     ------------- -------------------------- 4.4/12.8 MB 1.1 MB/s eta 0:00:08\n",
      "     ------------- -------------------------- 4.4/12.8 MB 1.1 MB/s eta 0:00:08\n",
      "     ------------- -------------------------- 4.5/12.8 MB 1.1 MB/s eta 0:00:08\n",
      "     -------------- ------------------------- 4.5/12.8 MB 1.1 MB/s eta 0:00:08\n",
      "     -------------- ------------------------- 4.6/12.8 MB 1.1 MB/s eta 0:00:08\n",
      "     -------------- ------------------------- 4.6/12.8 MB 1.1 MB/s eta 0:00:08\n",
      "     -------------- ------------------------- 4.7/12.8 MB 1.1 MB/s eta 0:00:08\n",
      "     -------------- ------------------------- 4.8/12.8 MB 1.1 MB/s eta 0:00:08\n",
      "     --------------- ------------------------ 4.8/12.8 MB 1.1 MB/s eta 0:00:08\n",
      "     --------------- ------------------------ 4.9/12.8 MB 1.1 MB/s eta 0:00:08\n",
      "     --------------- ------------------------ 4.9/12.8 MB 1.1 MB/s eta 0:00:08\n",
      "     --------------- ------------------------ 5.0/12.8 MB 1.1 MB/s eta 0:00:08\n",
      "     --------------- ------------------------ 5.0/12.8 MB 1.1 MB/s eta 0:00:08\n",
      "     --------------- ------------------------ 5.1/12.8 MB 1.1 MB/s eta 0:00:08\n",
      "     --------------- ------------------------ 5.1/12.8 MB 1.1 MB/s eta 0:00:08\n",
      "     ---------------- ----------------------- 5.2/12.8 MB 1.1 MB/s eta 0:00:08\n",
      "     ---------------- ----------------------- 5.2/12.8 MB 1.1 MB/s eta 0:00:08\n",
      "     ---------------- ----------------------- 5.2/12.8 MB 1.1 MB/s eta 0:00:08\n",
      "     ---------------- ----------------------- 5.3/12.8 MB 1.1 MB/s eta 0:00:08\n",
      "     ---------------- ----------------------- 5.3/12.8 MB 1.1 MB/s eta 0:00:08\n",
      "     ---------------- ----------------------- 5.4/12.8 MB 1.1 MB/s eta 0:00:07\n",
      "     ---------------- ----------------------- 5.4/12.8 MB 1.1 MB/s eta 0:00:07\n",
      "     ----------------- ---------------------- 5.5/12.8 MB 1.1 MB/s eta 0:00:07\n",
      "     ----------------- ---------------------- 5.5/12.8 MB 1.1 MB/s eta 0:00:07\n",
      "     ----------------- ---------------------- 5.5/12.8 MB 1.1 MB/s eta 0:00:07\n",
      "     ----------------- ---------------------- 5.6/12.8 MB 1.1 MB/s eta 0:00:07\n",
      "     ----------------- ---------------------- 5.6/12.8 MB 1.1 MB/s eta 0:00:07\n",
      "     ----------------- ---------------------- 5.7/12.8 MB 1.1 MB/s eta 0:00:07\n",
      "     ----------------- ---------------------- 5.7/12.8 MB 1.1 MB/s eta 0:00:07\n",
      "     ----------------- ---------------------- 5.7/12.8 MB 1.1 MB/s eta 0:00:07\n",
      "     ------------------ --------------------- 5.8/12.8 MB 1.1 MB/s eta 0:00:07\n",
      "     ------------------ --------------------- 5.9/12.8 MB 1.1 MB/s eta 0:00:07\n",
      "     ------------------ --------------------- 5.9/12.8 MB 1.1 MB/s eta 0:00:07\n",
      "     ------------------ --------------------- 5.9/12.8 MB 1.1 MB/s eta 0:00:07\n",
      "     ------------------ --------------------- 6.0/12.8 MB 1.1 MB/s eta 0:00:07\n",
      "     ------------------ --------------------- 6.0/12.8 MB 1.1 MB/s eta 0:00:07\n",
      "     ------------------ --------------------- 6.1/12.8 MB 1.1 MB/s eta 0:00:07\n",
      "     ------------------- -------------------- 6.1/12.8 MB 1.1 MB/s eta 0:00:07\n",
      "     ------------------- -------------------- 6.1/12.8 MB 1.1 MB/s eta 0:00:07\n",
      "     ------------------- -------------------- 6.1/12.8 MB 1.1 MB/s eta 0:00:07\n",
      "     ------------------- -------------------- 6.2/12.8 MB 1.0 MB/s eta 0:00:07\n",
      "     ------------------- -------------------- 6.2/12.8 MB 1.0 MB/s eta 0:00:07\n",
      "     ------------------- -------------------- 6.3/12.8 MB 1.0 MB/s eta 0:00:07\n",
      "     ------------------- -------------------- 6.3/12.8 MB 1.0 MB/s eta 0:00:07\n",
      "     -------------------- ------------------- 6.4/12.8 MB 1.1 MB/s eta 0:00:07\n",
      "     -------------------- ------------------- 6.5/12.8 MB 1.1 MB/s eta 0:00:07\n",
      "     -------------------- ------------------- 6.5/12.8 MB 1.1 MB/s eta 0:00:06\n",
      "     -------------------- ------------------- 6.6/12.8 MB 1.1 MB/s eta 0:00:06\n",
      "     -------------------- ------------------- 6.6/12.8 MB 1.1 MB/s eta 0:00:06\n",
      "     -------------------- ------------------- 6.7/12.8 MB 1.1 MB/s eta 0:00:06\n",
      "     -------------------- ------------------- 6.7/12.8 MB 1.1 MB/s eta 0:00:06\n",
      "     --------------------- ------------------ 6.7/12.8 MB 1.1 MB/s eta 0:00:06\n",
      "     --------------------- ------------------ 6.8/12.8 MB 1.1 MB/s eta 0:00:06\n",
      "     --------------------- ------------------ 6.9/12.8 MB 1.1 MB/s eta 0:00:06\n",
      "     --------------------- ------------------ 6.9/12.8 MB 1.1 MB/s eta 0:00:06\n",
      "     --------------------- ------------------ 7.0/12.8 MB 1.1 MB/s eta 0:00:06\n",
      "     ---------------------- ----------------- 7.1/12.8 MB 1.1 MB/s eta 0:00:06\n",
      "     ---------------------- ----------------- 7.1/12.8 MB 1.1 MB/s eta 0:00:06\n",
      "     ---------------------- ----------------- 7.1/12.8 MB 1.1 MB/s eta 0:00:06\n",
      "     ---------------------- ----------------- 7.2/12.8 MB 1.1 MB/s eta 0:00:06\n",
      "     ---------------------- ----------------- 7.2/12.8 MB 1.1 MB/s eta 0:00:06\n",
      "     ---------------------- ----------------- 7.3/12.8 MB 1.1 MB/s eta 0:00:06\n",
      "     ----------------------- ---------------- 7.4/12.8 MB 1.1 MB/s eta 0:00:06\n",
      "     ----------------------- ---------------- 7.4/12.8 MB 1.1 MB/s eta 0:00:06\n",
      "     ----------------------- ---------------- 7.4/12.8 MB 1.0 MB/s eta 0:00:06\n",
      "     ----------------------- ---------------- 7.4/12.8 MB 1.0 MB/s eta 0:00:06\n",
      "     ----------------------- ---------------- 7.4/12.8 MB 1.0 MB/s eta 0:00:06\n",
      "     ----------------------- ---------------- 7.4/12.8 MB 1.0 MB/s eta 0:00:06\n",
      "     ----------------------- ---------------- 7.4/12.8 MB 1.0 MB/s eta 0:00:06\n",
      "     ----------------------- ---------------- 7.4/12.8 MB 1.0 MB/s eta 0:00:06\n",
      "     ----------------------- ---------------- 7.4/12.8 MB 1.0 MB/s eta 0:00:06\n",
      "     ----------------------- ---------------- 7.4/12.8 MB 1.0 MB/s eta 0:00:06\n",
      "     ----------------------- ---------------- 7.4/12.8 MB 1.0 MB/s eta 0:00:06\n",
      "     ----------------------- ---------------- 7.4/12.8 MB 1.0 MB/s eta 0:00:06\n",
      "     ----------------------- ---------------- 7.4/12.8 MB 1.0 MB/s eta 0:00:06\n",
      "     ----------------------- ---------------- 7.4/12.8 MB 1.0 MB/s eta 0:00:06\n",
      "     ----------------------- ---------------- 7.4/12.8 MB 1.0 MB/s eta 0:00:06\n",
      "     ----------------------- ---------------- 7.4/12.8 MB 1.0 MB/s eta 0:00:06\n",
      "     ----------------------- ---------------- 7.4/12.8 MB 1.0 MB/s eta 0:00:06\n",
      "     ----------------------- ---------------- 7.4/12.8 MB 1.0 MB/s eta 0:00:06\n",
      "     ---------------------- ---------------- 7.5/12.8 MB 964.5 kB/s eta 0:00:06\n",
      "     ------------------------- -------------- 8.1/12.8 MB 1.0 MB/s eta 0:00:05\n",
      "     ------------------------- -------------- 8.2/12.8 MB 1.0 MB/s eta 0:00:05\n",
      "     ------------------------- -------------- 8.3/12.8 MB 1.0 MB/s eta 0:00:05\n",
      "     ------------------------- -------------- 8.3/12.8 MB 1.0 MB/s eta 0:00:05\n",
      "     -------------------------- ------------- 8.4/12.8 MB 1.0 MB/s eta 0:00:05\n",
      "     -------------------------- ------------- 8.4/12.8 MB 1.0 MB/s eta 0:00:05\n",
      "     -------------------------- ------------- 8.4/12.8 MB 1.0 MB/s eta 0:00:05\n",
      "     -------------------------- ------------- 8.5/12.8 MB 1.0 MB/s eta 0:00:05\n",
      "     -------------------------- ------------- 8.5/12.8 MB 1.0 MB/s eta 0:00:05\n",
      "     -------------------------- ------------- 8.6/12.8 MB 1.0 MB/s eta 0:00:05\n",
      "     --------------------------- ------------ 8.7/12.8 MB 1.0 MB/s eta 0:00:04\n",
      "     --------------------------- ------------ 8.7/12.8 MB 1.1 MB/s eta 0:00:04\n",
      "     --------------------------- ------------ 8.7/12.8 MB 1.0 MB/s eta 0:00:04\n",
      "     --------------------------- ------------ 8.7/12.8 MB 1.0 MB/s eta 0:00:04\n",
      "     --------------------------- ------------ 8.8/12.8 MB 1.0 MB/s eta 0:00:04\n",
      "     --------------------------- ------------ 8.8/12.8 MB 1.0 MB/s eta 0:00:04\n",
      "     --------------------------- ------------ 8.9/12.8 MB 1.0 MB/s eta 0:00:04\n",
      "     --------------------------- ------------ 8.9/12.8 MB 1.0 MB/s eta 0:00:04\n",
      "     --------------------------- ------------ 8.9/12.8 MB 1.0 MB/s eta 0:00:04\n",
      "     ---------------------------- ----------- 9.0/12.8 MB 1.0 MB/s eta 0:00:04\n",
      "     ---------------------------- ----------- 9.0/12.8 MB 1.0 MB/s eta 0:00:04\n",
      "     ---------------------------- ----------- 9.1/12.8 MB 1.0 MB/s eta 0:00:04\n",
      "     ---------------------------- ----------- 9.1/12.8 MB 1.0 MB/s eta 0:00:04\n",
      "     ---------------------------- ----------- 9.1/12.8 MB 1.0 MB/s eta 0:00:04\n",
      "     ---------------------------- ----------- 9.2/12.8 MB 1.0 MB/s eta 0:00:04\n",
      "     ---------------------------- ----------- 9.3/12.8 MB 1.0 MB/s eta 0:00:04\n",
      "     ----------------------------- ---------- 9.3/12.8 MB 1.0 MB/s eta 0:00:04\n",
      "     ----------------------------- ---------- 9.4/12.8 MB 1.0 MB/s eta 0:00:04\n",
      "     ----------------------------- ---------- 9.5/12.8 MB 1.1 MB/s eta 0:00:04\n",
      "     ----------------------------- ---------- 9.5/12.8 MB 1.1 MB/s eta 0:00:04\n",
      "     ------------------------------ --------- 9.6/12.8 MB 1.1 MB/s eta 0:00:04\n",
      "     ------------------------------ --------- 9.7/12.8 MB 1.1 MB/s eta 0:00:03\n",
      "     ------------------------------ --------- 9.7/12.8 MB 1.1 MB/s eta 0:00:03\n",
      "     ------------------------------ --------- 9.8/12.8 MB 1.1 MB/s eta 0:00:03\n",
      "     ------------------------------ --------- 9.9/12.8 MB 1.1 MB/s eta 0:00:03\n",
      "     ------------------------------- -------- 9.9/12.8 MB 1.1 MB/s eta 0:00:03\n",
      "     ------------------------------- -------- 10.0/12.8 MB 1.1 MB/s eta 0:00:03\n",
      "     ------------------------------- -------- 10.0/12.8 MB 1.1 MB/s eta 0:00:03\n",
      "     ------------------------------- -------- 10.1/12.8 MB 1.1 MB/s eta 0:00:03\n",
      "     ------------------------------- -------- 10.2/12.8 MB 1.1 MB/s eta 0:00:03\n",
      "     ------------------------------- -------- 10.2/12.8 MB 1.1 MB/s eta 0:00:03\n",
      "     -------------------------------- ------- 10.3/12.8 MB 1.1 MB/s eta 0:00:03\n",
      "     -------------------------------- ------- 10.3/12.8 MB 1.1 MB/s eta 0:00:03\n",
      "     -------------------------------- ------- 10.4/12.8 MB 1.1 MB/s eta 0:00:03\n",
      "     -------------------------------- ------- 10.5/12.8 MB 1.1 MB/s eta 0:00:03\n",
      "     -------------------------------- ------- 10.5/12.8 MB 1.1 MB/s eta 0:00:03\n",
      "     --------------------------------- ------ 10.6/12.8 MB 1.1 MB/s eta 0:00:03\n",
      "     --------------------------------- ------ 10.6/12.8 MB 1.1 MB/s eta 0:00:03\n",
      "     --------------------------------- ------ 10.7/12.8 MB 1.1 MB/s eta 0:00:02\n",
      "     --------------------------------- ------ 10.8/12.8 MB 1.1 MB/s eta 0:00:02\n",
      "     --------------------------------- ------ 10.8/12.8 MB 1.1 MB/s eta 0:00:02\n",
      "     ---------------------------------- ----- 10.9/12.8 MB 1.1 MB/s eta 0:00:02\n",
      "     ---------------------------------- ----- 11.0/12.8 MB 1.1 MB/s eta 0:00:02\n",
      "     ---------------------------------- ----- 11.0/12.8 MB 1.1 MB/s eta 0:00:02\n",
      "     ---------------------------------- ----- 11.1/12.8 MB 1.1 MB/s eta 0:00:02\n",
      "     ---------------------------------- ----- 11.2/12.8 MB 1.1 MB/s eta 0:00:02\n",
      "     ----------------------------------- ---- 11.2/12.8 MB 1.1 MB/s eta 0:00:02\n",
      "     ----------------------------------- ---- 11.3/12.8 MB 1.1 MB/s eta 0:00:02\n",
      "     ----------------------------------- ---- 11.3/12.8 MB 1.1 MB/s eta 0:00:02\n",
      "     ----------------------------------- ---- 11.4/12.8 MB 1.1 MB/s eta 0:00:02\n",
      "     ----------------------------------- ---- 11.5/12.8 MB 1.1 MB/s eta 0:00:02\n",
      "     ------------------------------------ --- 11.6/12.8 MB 1.1 MB/s eta 0:00:02\n",
      "     ------------------------------------ --- 11.6/12.8 MB 1.1 MB/s eta 0:00:02\n",
      "     ------------------------------------ --- 11.7/12.8 MB 1.1 MB/s eta 0:00:02\n",
      "     ------------------------------------ --- 11.8/12.8 MB 1.1 MB/s eta 0:00:01\n",
      "     ------------------------------------ --- 11.8/12.8 MB 1.1 MB/s eta 0:00:01\n",
      "     ------------------------------------- -- 11.9/12.8 MB 1.1 MB/s eta 0:00:01\n",
      "     ------------------------------------- -- 12.0/12.8 MB 1.1 MB/s eta 0:00:01\n",
      "     ------------------------------------- -- 12.0/12.8 MB 1.1 MB/s eta 0:00:01\n",
      "     ------------------------------------- -- 12.1/12.8 MB 1.1 MB/s eta 0:00:01\n",
      "     ------------------------------------- -- 12.1/12.8 MB 1.1 MB/s eta 0:00:01\n",
      "     -------------------------------------- - 12.2/12.8 MB 1.1 MB/s eta 0:00:01\n",
      "     -------------------------------------- - 12.3/12.8 MB 1.1 MB/s eta 0:00:01\n",
      "     -------------------------------------- - 12.4/12.8 MB 1.1 MB/s eta 0:00:01\n",
      "     -------------------------------------- - 12.4/12.8 MB 1.1 MB/s eta 0:00:01\n",
      "     ---------------------------------------  12.5/12.8 MB 1.1 MB/s eta 0:00:01\n",
      "     ---------------------------------------  12.6/12.8 MB 1.1 MB/s eta 0:00:01\n",
      "     ---------------------------------------  12.6/12.8 MB 1.1 MB/s eta 0:00:01\n",
      "     ---------------------------------------  12.7/12.8 MB 1.1 MB/s eta 0:00:01\n",
      "     ---------------------------------------  12.7/12.8 MB 1.1 MB/s eta 0:00:01\n",
      "     ---------------------------------------  12.8/12.8 MB 1.1 MB/s eta 0:00:01\n",
      "     ---------------------------------------  12.8/12.8 MB 1.1 MB/s eta 0:00:01\n",
      "     ---------------------------------------- 12.8/12.8 MB 1.1 MB/s eta 0:00:00\n",
      "Requirement already satisfied: spacy<3.8.0,>=3.7.2 in c:\\project\\nlp_spacy\\venv\\lib\\site-packages (from en-core-web-sm==3.7.1) (3.7.2)\n",
      "Requirement already satisfied: spacy-legacy<3.1.0,>=3.0.11 in c:\\project\\nlp_spacy\\venv\\lib\\site-packages (from spacy<3.8.0,>=3.7.2->en-core-web-sm==3.7.1) (3.0.12)\n",
      "Requirement already satisfied: spacy-loggers<2.0.0,>=1.0.0 in c:\\project\\nlp_spacy\\venv\\lib\\site-packages (from spacy<3.8.0,>=3.7.2->en-core-web-sm==3.7.1) (1.0.5)\n",
      "Requirement already satisfied: murmurhash<1.1.0,>=0.28.0 in c:\\project\\nlp_spacy\\venv\\lib\\site-packages (from spacy<3.8.0,>=3.7.2->en-core-web-sm==3.7.1) (1.0.10)\n",
      "Requirement already satisfied: cymem<2.1.0,>=2.0.2 in c:\\project\\nlp_spacy\\venv\\lib\\site-packages (from spacy<3.8.0,>=3.7.2->en-core-web-sm==3.7.1) (2.0.8)\n",
      "Requirement already satisfied: preshed<3.1.0,>=3.0.2 in c:\\project\\nlp_spacy\\venv\\lib\\site-packages (from spacy<3.8.0,>=3.7.2->en-core-web-sm==3.7.1) (3.0.9)\n",
      "Requirement already satisfied: thinc<8.3.0,>=8.1.8 in c:\\project\\nlp_spacy\\venv\\lib\\site-packages (from spacy<3.8.0,>=3.7.2->en-core-web-sm==3.7.1) (8.2.1)\n",
      "Requirement already satisfied: wasabi<1.2.0,>=0.9.1 in c:\\project\\nlp_spacy\\venv\\lib\\site-packages (from spacy<3.8.0,>=3.7.2->en-core-web-sm==3.7.1) (1.1.2)\n",
      "Requirement already satisfied: srsly<3.0.0,>=2.4.3 in c:\\project\\nlp_spacy\\venv\\lib\\site-packages (from spacy<3.8.0,>=3.7.2->en-core-web-sm==3.7.1) (2.4.8)\n",
      "Requirement already satisfied: catalogue<2.1.0,>=2.0.6 in c:\\project\\nlp_spacy\\venv\\lib\\site-packages (from spacy<3.8.0,>=3.7.2->en-core-web-sm==3.7.1) (2.0.10)\n",
      "Requirement already satisfied: weasel<0.4.0,>=0.1.0 in c:\\project\\nlp_spacy\\venv\\lib\\site-packages (from spacy<3.8.0,>=3.7.2->en-core-web-sm==3.7.1) (0.3.4)\n",
      "Requirement already satisfied: typer<0.10.0,>=0.3.0 in c:\\project\\nlp_spacy\\venv\\lib\\site-packages (from spacy<3.8.0,>=3.7.2->en-core-web-sm==3.7.1) (0.9.0)\n",
      "Requirement already satisfied: smart-open<7.0.0,>=5.2.1 in c:\\project\\nlp_spacy\\venv\\lib\\site-packages (from spacy<3.8.0,>=3.7.2->en-core-web-sm==3.7.1) (6.4.0)\n",
      "Requirement already satisfied: tqdm<5.0.0,>=4.38.0 in c:\\project\\nlp_spacy\\venv\\lib\\site-packages (from spacy<3.8.0,>=3.7.2->en-core-web-sm==3.7.1) (4.66.1)\n",
      "Requirement already satisfied: requests<3.0.0,>=2.13.0 in c:\\project\\nlp_spacy\\venv\\lib\\site-packages (from spacy<3.8.0,>=3.7.2->en-core-web-sm==3.7.1) (2.31.0)\n",
      "Requirement already satisfied: pydantic!=1.8,!=1.8.1,<3.0.0,>=1.7.4 in c:\\project\\nlp_spacy\\venv\\lib\\site-packages (from spacy<3.8.0,>=3.7.2->en-core-web-sm==3.7.1) (2.5.2)\n",
      "Requirement already satisfied: jinja2 in c:\\project\\nlp_spacy\\venv\\lib\\site-packages (from spacy<3.8.0,>=3.7.2->en-core-web-sm==3.7.1) (3.1.2)\n",
      "Requirement already satisfied: setuptools in c:\\project\\nlp_spacy\\venv\\lib\\site-packages (from spacy<3.8.0,>=3.7.2->en-core-web-sm==3.7.1) (68.2.0)\n",
      "Requirement already satisfied: packaging>=20.0 in c:\\project\\nlp_spacy\\venv\\lib\\site-packages (from spacy<3.8.0,>=3.7.2->en-core-web-sm==3.7.1) (23.2)\n",
      "Requirement already satisfied: langcodes<4.0.0,>=3.2.0 in c:\\project\\nlp_spacy\\venv\\lib\\site-packages (from spacy<3.8.0,>=3.7.2->en-core-web-sm==3.7.1) (3.3.0)\n",
      "Requirement already satisfied: numpy>=1.19.0 in c:\\project\\nlp_spacy\\venv\\lib\\site-packages (from spacy<3.8.0,>=3.7.2->en-core-web-sm==3.7.1) (1.26.2)\n",
      "Requirement already satisfied: annotated-types>=0.4.0 in c:\\project\\nlp_spacy\\venv\\lib\\site-packages (from pydantic!=1.8,!=1.8.1,<3.0.0,>=1.7.4->spacy<3.8.0,>=3.7.2->en-core-web-sm==3.7.1) (0.6.0)\n",
      "Requirement already satisfied: pydantic-core==2.14.5 in c:\\project\\nlp_spacy\\venv\\lib\\site-packages (from pydantic!=1.8,!=1.8.1,<3.0.0,>=1.7.4->spacy<3.8.0,>=3.7.2->en-core-web-sm==3.7.1) (2.14.5)\n",
      "Requirement already satisfied: typing-extensions>=4.6.1 in c:\\project\\nlp_spacy\\venv\\lib\\site-packages (from pydantic!=1.8,!=1.8.1,<3.0.0,>=1.7.4->spacy<3.8.0,>=3.7.2->en-core-web-sm==3.7.1) (4.8.0)\n",
      "Requirement already satisfied: charset-normalizer<4,>=2 in c:\\project\\nlp_spacy\\venv\\lib\\site-packages (from requests<3.0.0,>=2.13.0->spacy<3.8.0,>=3.7.2->en-core-web-sm==3.7.1) (3.3.2)\n",
      "Requirement already satisfied: idna<4,>=2.5 in c:\\project\\nlp_spacy\\venv\\lib\\site-packages (from requests<3.0.0,>=2.13.0->spacy<3.8.0,>=3.7.2->en-core-web-sm==3.7.1) (3.6)\n",
      "Requirement already satisfied: urllib3<3,>=1.21.1 in c:\\project\\nlp_spacy\\venv\\lib\\site-packages (from requests<3.0.0,>=2.13.0->spacy<3.8.0,>=3.7.2->en-core-web-sm==3.7.1) (2.1.0)\n",
      "Requirement already satisfied: certifi>=2017.4.17 in c:\\project\\nlp_spacy\\venv\\lib\\site-packages (from requests<3.0.0,>=2.13.0->spacy<3.8.0,>=3.7.2->en-core-web-sm==3.7.1) (2023.11.17)\n",
      "Requirement already satisfied: blis<0.8.0,>=0.7.8 in c:\\project\\nlp_spacy\\venv\\lib\\site-packages (from thinc<8.3.0,>=8.1.8->spacy<3.8.0,>=3.7.2->en-core-web-sm==3.7.1) (0.7.11)\n",
      "Requirement already satisfied: confection<1.0.0,>=0.0.1 in c:\\project\\nlp_spacy\\venv\\lib\\site-packages (from thinc<8.3.0,>=8.1.8->spacy<3.8.0,>=3.7.2->en-core-web-sm==3.7.1) (0.1.4)\n",
      "Requirement already satisfied: colorama in c:\\project\\nlp_spacy\\venv\\lib\\site-packages (from tqdm<5.0.0,>=4.38.0->spacy<3.8.0,>=3.7.2->en-core-web-sm==3.7.1) (0.4.6)\n",
      "Requirement already satisfied: click<9.0.0,>=7.1.1 in c:\\project\\nlp_spacy\\venv\\lib\\site-packages (from typer<0.10.0,>=0.3.0->spacy<3.8.0,>=3.7.2->en-core-web-sm==3.7.1) (8.1.7)\n",
      "Requirement already satisfied: cloudpathlib<0.17.0,>=0.7.0 in c:\\project\\nlp_spacy\\venv\\lib\\site-packages (from weasel<0.4.0,>=0.1.0->spacy<3.8.0,>=3.7.2->en-core-web-sm==3.7.1) (0.16.0)\n",
      "Requirement already satisfied: MarkupSafe>=2.0 in c:\\project\\nlp_spacy\\venv\\lib\\site-packages (from jinja2->spacy<3.8.0,>=3.7.2->en-core-web-sm==3.7.1) (2.1.3)\n",
      "Installing collected packages: en-core-web-sm\n",
      "Successfully installed en-core-web-sm-3.7.1\n",
      "\u001B[38;5;3m[!] As of spaCy v3.0, shortcuts like 'en' are deprecated. Please use\n",
      "the full pipeline package name 'en_core_web_sm' instead.\u001B[0m\n",
      "\u001B[38;5;2m[+] Download and installation successful\u001B[0m\n",
      "You can now load the package via spacy.load('en_core_web_sm')\n"
     ]
    },
    {
     "name": "stderr",
     "output_type": "stream",
     "text": [
      "\n",
      "[notice] A new release of pip is available: 23.2.1 -> 23.3.1\n",
      "[notice] To update, run: python.exe -m pip install --upgrade pip\n"
     ]
    }
   ],
   "source": [
    "#!python -m spacy download en"
   ],
   "metadata": {
    "collapsed": false,
    "ExecuteTime": {
     "end_time": "2023-11-26T18:33:27.469757500Z",
     "start_time": "2023-11-26T18:33:09.449064300Z"
    }
   },
   "id": "63d3b2cdb0b8cd6a"
  },
  {
   "cell_type": "markdown",
   "source": [
    "You can now load the package via spacy.load('en_core_web_sm')"
   ],
   "metadata": {
    "collapsed": false
   },
   "id": "3cab70606b75ddb4"
  },
  {
   "cell_type": "code",
   "execution_count": null,
   "outputs": [],
   "source": [
    "#!python -m spacy download ru_core_news_sm"
   ],
   "metadata": {
    "collapsed": false
   },
   "id": "8cfd72d9e07fa5a3"
  },
  {
   "cell_type": "markdown",
   "source": [
    "You can now load the package via spacy.load('ru_core_news_sm')"
   ],
   "metadata": {
    "collapsed": false
   },
   "id": "796e3e69eb7e7ed1"
  },
  {
   "cell_type": "markdown",
   "source": [
    "## Загрузка корпуса"
   ],
   "metadata": {
    "collapsed": false
   },
   "id": "4a17cd1afa634f92"
  },
  {
   "cell_type": "code",
   "execution_count": 8,
   "outputs": [],
   "source": [
    "import spacy"
   ],
   "metadata": {
    "collapsed": false,
    "ExecuteTime": {
     "end_time": "2023-11-26T19:25:00.329760100Z",
     "start_time": "2023-11-26T19:25:00.282867500Z"
    }
   },
   "id": "d84771037c90e3c2"
  },
  {
   "cell_type": "code",
   "execution_count": 9,
   "outputs": [],
   "source": [
    "nlp_en = spacy.load('en_core_web_sm')\n",
    "nlp_ru = spacy.load('ru_core_news_sm')"
   ],
   "metadata": {
    "collapsed": false,
    "ExecuteTime": {
     "end_time": "2023-11-26T19:25:03.216125600Z",
     "start_time": "2023-11-26T19:25:00.628463300Z"
    }
   },
   "id": "81f8e2bcdc6a1ee5"
  },
  {
   "cell_type": "markdown",
   "source": [
    "## Токенизация"
   ],
   "metadata": {
    "collapsed": false
   },
   "id": "3140510eeda62c7c"
  },
  {
   "cell_type": "code",
   "execution_count": 10,
   "outputs": [
    {
     "name": "stdout",
     "output_type": "stream",
     "text": [
      "['I', 'am', 'flying', 'to', 'Frisco']\n"
     ]
    }
   ],
   "source": [
    "doc = nlp_en(u'I am flying to Frisco')\n",
    "print([w.text for w in doc])"
   ],
   "metadata": {
    "collapsed": false,
    "ExecuteTime": {
     "end_time": "2023-11-26T19:25:04.624922Z",
     "start_time": "2023-11-26T19:25:04.565185100Z"
    }
   },
   "id": "cca59066ada8699c"
  },
  {
   "cell_type": "code",
   "execution_count": 11,
   "outputs": [
    {
     "name": "stdout",
     "output_type": "stream",
     "text": [
      "['Я', 'лечу', 'в', 'Казань']\n"
     ]
    }
   ],
   "source": [
    "doc = nlp_ru(u'Я лечу в Казань')\n",
    "print([w.text for w in doc])"
   ],
   "metadata": {
    "collapsed": false,
    "ExecuteTime": {
     "end_time": "2023-11-26T19:25:05.646822600Z",
     "start_time": "2023-11-26T19:25:05.631184200Z"
    }
   },
   "id": "acd9e45cb3aea9bd"
  },
  {
   "cell_type": "markdown",
   "source": [
    "## Лемматизация"
   ],
   "metadata": {
    "collapsed": false
   },
   "id": "48790606ab1428d1"
  },
  {
   "cell_type": "code",
   "execution_count": 13,
   "outputs": [
    {
     "name": "stdout",
     "output_type": "stream",
     "text": [
      "this this\n",
      "product product\n",
      "integrates integrate\n",
      "both both\n",
      "libraries library\n",
      "for for\n",
      "downloading download\n",
      "and and\n",
      "applying apply\n",
      "patches patch\n"
     ]
    }
   ],
   "source": [
    "doc = nlp_en(u'this product integrates both libraries for downloading and applying patches')\n",
    "for token in doc:\n",
    "    print(token.text, token.lemma_)"
   ],
   "metadata": {
    "collapsed": false,
    "ExecuteTime": {
     "end_time": "2023-11-26T19:29:57.153036600Z",
     "start_time": "2023-11-26T19:29:57.112336500Z"
    }
   },
   "id": "fae4813aa546e8d6"
  },
  {
   "cell_type": "code",
   "execution_count": 21,
   "outputs": [
    {
     "name": "stdout",
     "output_type": "stream",
     "text": [
      "Collecting tabulate\n",
      "  Using cached tabulate-0.9.0-py3-none-any.whl (35 kB)\n",
      "Installing collected packages: tabulate\n",
      "Successfully installed tabulate-0.9.0\n"
     ]
    },
    {
     "name": "stderr",
     "output_type": "stream",
     "text": [
      "\n",
      "[notice] A new release of pip is available: 23.2.1 -> 23.3.1\n",
      "[notice] To update, run: python.exe -m pip install --upgrade pip\n"
     ]
    }
   ],
   "source": [
    "#!pip install tabulate"
   ],
   "metadata": {
    "collapsed": false,
    "ExecuteTime": {
     "end_time": "2023-11-26T19:37:07.830685800Z",
     "start_time": "2023-11-26T19:37:01.560775400Z"
    }
   },
   "id": "41e2674d3f51c1a"
  },
  {
   "cell_type": "code",
   "execution_count": 25,
   "outputs": [],
   "source": [
    "from tabulate import tabulate"
   ],
   "metadata": {
    "collapsed": false,
    "ExecuteTime": {
     "end_time": "2023-11-26T19:38:29.370609200Z",
     "start_time": "2023-11-26T19:38:29.323722300Z"
    }
   },
   "id": "a2e8dd8023abe73e"
  },
  {
   "cell_type": "code",
   "execution_count": 27,
   "outputs": [
    {
     "name": "stdout",
     "output_type": "stream",
     "text": [
      "исх          лемма\n",
      "-----------  -----------\n",
      "этот         этот\n",
      "продукт      продукт\n",
      "объединяет   объединять\n",
      "обе          оба\n",
      "библиотеки   библиотека\n",
      "для          для\n",
      "загрузки     загрузка\n",
      "и            и\n",
      "применения   применение\n",
      "исправлений  исправление\n",
      ".            .\n"
     ]
    }
   ],
   "source": [
    "doc = nlp_ru(u'этот продукт объединяет обе библиотеки для загрузки и применения исправлений.')\n",
    "print(tabulate([[token.text, token.lemma_] for token in doc], headers=['исх', 'лемма']))\n",
    "# for token in doc:\n",
    "#     print(token.text,'\\t', token.lemma_)"
   ],
   "metadata": {
    "collapsed": false,
    "ExecuteTime": {
     "end_time": "2023-11-26T19:39:42.785806900Z",
     "start_time": "2023-11-26T19:39:42.724809300Z"
    }
   },
   "id": "1bec63cde7a0965e"
  },
  {
   "cell_type": "markdown",
   "source": [
    "## Использование лемматизации для распознавания смысла"
   ],
   "metadata": {
    "collapsed": false
   },
   "id": "96f82c2455c03353"
  },
  {
   "cell_type": "code",
   "execution_count": 31,
   "outputs": [],
   "source": [
    "from spacy.symbols import ORTH, LEMMA, NORM"
   ],
   "metadata": {
    "collapsed": false,
    "ExecuteTime": {
     "end_time": "2023-11-26T19:45:42.714474500Z",
     "start_time": "2023-11-26T19:45:42.686991800Z"
    }
   },
   "id": "26ce233bef79cca5"
  },
  {
   "cell_type": "code",
   "execution_count": 32,
   "outputs": [
    {
     "name": "stdout",
     "output_type": "stream",
     "text": [
      "['I', 'am', 'flying', 'to', 'Frisco']\n",
      "['I', 'be', 'fly', 'to', 'Frisco']\n"
     ]
    }
   ],
   "source": [
    "doc = nlp_en(u'I am flying to Frisco')\n",
    "print([w.text for w in doc])\n",
    "special_case = [{ORTH: u'Frisco', NORM: u'San Francisco'}]\n",
    "nlp_en.tokenizer.add_special_case(u'Frisco', special_case)\n",
    "print([w.lemma_ for w in nlp_en(u'I am flying to Frisco')])"
   ],
   "metadata": {
    "collapsed": false,
    "ExecuteTime": {
     "end_time": "2023-11-26T19:45:44.099314600Z",
     "start_time": "2023-11-26T19:45:44.066368500Z"
    }
   },
   "id": "d70448a2750fc687"
  },
  {
   "cell_type": "code",
   "execution_count": null,
   "outputs": [],
   "source": [],
   "metadata": {
    "collapsed": false
   },
   "id": "5814c9ebe90d7fb5"
  }
 ],
 "metadata": {
  "kernelspec": {
   "display_name": "Python 3",
   "language": "python",
   "name": "python3"
  },
  "language_info": {
   "codemirror_mode": {
    "name": "ipython",
    "version": 2
   },
   "file_extension": ".py",
   "mimetype": "text/x-python",
   "name": "python",
   "nbconvert_exporter": "python",
   "pygments_lexer": "ipython2",
   "version": "2.7.6"
  }
 },
 "nbformat": 4,
 "nbformat_minor": 5
}
