{
 "cells": [
  {
   "cell_type": "code",
   "execution_count": 1,
   "id": "initial_id",
   "metadata": {
    "collapsed": true,
    "ExecuteTime": {
     "end_time": "2023-12-03T21:13:41.036947400Z",
     "start_time": "2023-12-03T21:13:34.343450100Z"
    }
   },
   "outputs": [],
   "source": [
    "import spacy\n",
    "\n",
    "nlp_en = spacy.load('en_core_web_sm')\n",
    "nlp_ru = spacy.load('ru_core_news_sm')"
   ]
  },
  {
   "cell_type": "markdown",
   "source": [
    "# 3. Работа с объектами-контейнерами и настройка spaCy под свои нужды"
   ],
   "metadata": {
    "collapsed": false
   },
   "id": "4e35c01c75fb22f5"
  },
  {
   "cell_type": "markdown",
   "source": [
    "## Получение индекса токена в объекте Doc"
   ],
   "metadata": {
    "collapsed": false
   },
   "id": "a365638a9e83685b"
  },
  {
   "cell_type": "code",
   "execution_count": 2,
   "outputs": [],
   "source": [
    "doc = nlp_en(u'this product integrates both libraries for downloading and applying patches')"
   ],
   "metadata": {
    "collapsed": false,
    "ExecuteTime": {
     "end_time": "2023-12-03T21:15:09.788099200Z",
     "start_time": "2023-12-03T21:15:09.654754100Z"
    }
   },
   "id": "c078436a3452a8b0"
  },
  {
   "cell_type": "code",
   "execution_count": 3,
   "outputs": [
    {
     "data": {
      "text/plain": "[this,\n product,\n integrates,\n both,\n libraries,\n for,\n downloading,\n and,\n applying,\n patches]"
     },
     "execution_count": 3,
     "metadata": {},
     "output_type": "execute_result"
    }
   ],
   "source": [
    "[doc[i] for i in range(len(doc))]"
   ],
   "metadata": {
    "collapsed": false,
    "ExecuteTime": {
     "end_time": "2023-12-03T21:15:11.924235400Z",
     "start_time": "2023-12-03T21:15:11.909120900Z"
    }
   },
   "id": "a68a6c5a7abf4ca6"
  },
  {
   "cell_type": "code",
   "execution_count": 4,
   "outputs": [
    {
     "data": {
      "text/plain": "Hi there "
     },
     "execution_count": 4,
     "metadata": {},
     "output_type": "execute_result"
    }
   ],
   "source": [
    "from spacy.tokens.doc import Doc\n",
    "from spacy.vocab import Vocab\n",
    "doc = Doc(Vocab(), words=[u'Hi', u'there'])\n",
    "doc\n"
   ],
   "metadata": {
    "collapsed": false,
    "ExecuteTime": {
     "end_time": "2023-12-03T21:16:11.328066600Z",
     "start_time": "2023-12-03T21:16:11.305798400Z"
    }
   },
   "id": "e7643bb27ca9f397"
  },
  {
   "cell_type": "markdown",
   "source": [
    "## Обход в цикле синтаксических дочерних элементов токена"
   ],
   "metadata": {
    "collapsed": false
   },
   "id": "308abda61cd3c225"
  },
  {
   "cell_type": "code",
   "execution_count": 5,
   "outputs": [
    {
     "data": {
      "text/plain": "[a, green]"
     },
     "execution_count": 5,
     "metadata": {},
     "output_type": "execute_result"
    }
   ],
   "source": [
    "doc = nlp_en(u'I want a green apple.')\n",
    "[w for w in doc[4].lefts]"
   ],
   "metadata": {
    "collapsed": false,
    "ExecuteTime": {
     "end_time": "2023-12-03T21:18:37.810980100Z",
     "start_time": "2023-12-03T21:18:37.771891400Z"
    }
   },
   "id": "663148c9d38c5600"
  },
  {
   "cell_type": "code",
   "execution_count": 11,
   "outputs": [
    {
     "data": {
      "text/plain": "[зеленое]"
     },
     "execution_count": 11,
     "metadata": {},
     "output_type": "execute_result"
    }
   ],
   "source": [
    "doc = nlp_ru(u'Я хочу зеленое яблоко')\n",
    "[w for w in doc[3].lefts]"
   ],
   "metadata": {
    "collapsed": false,
    "ExecuteTime": {
     "end_time": "2023-12-03T21:20:04.323175400Z",
     "start_time": "2023-12-03T21:20:04.258038600Z"
    }
   },
   "id": "5e95395ed7543375"
  },
  {
   "cell_type": "code",
   "execution_count": 13,
   "outputs": [
    {
     "data": {
      "text/plain": "[зеленое]"
     },
     "execution_count": 13,
     "metadata": {},
     "output_type": "execute_result"
    }
   ],
   "source": [
    "[w for w in doc[3].children]"
   ],
   "metadata": {
    "collapsed": false,
    "ExecuteTime": {
     "end_time": "2023-12-03T21:20:46.974523100Z",
     "start_time": "2023-12-03T21:20:46.959476400Z"
    }
   },
   "id": "cb0c40f4c8492bdf"
  },
  {
   "cell_type": "code",
   "execution_count": 18,
   "outputs": [
    {
     "data": {
      "text/plain": "[]"
     },
     "execution_count": 18,
     "metadata": {},
     "output_type": "execute_result"
    }
   ],
   "source": [
    "doc = nlp_en(u'I want a green apple.')\n",
    "[w for w in doc[4].rights]"
   ],
   "metadata": {
    "collapsed": false,
    "ExecuteTime": {
     "end_time": "2023-12-03T21:27:21.761764400Z",
     "start_time": "2023-12-03T21:27:21.736615500Z"
    }
   },
   "id": "9c08c664927d325c"
  },
  {
   "cell_type": "markdown",
   "source": [
    "## Контейнер doc.sents"
   ],
   "metadata": {
    "collapsed": false
   },
   "id": "243ea0cb52a83166"
  },
  {
   "cell_type": "code",
   "execution_count": 20,
   "outputs": [
    {
     "name": "stdout",
     "output_type": "stream",
     "text": [
      "[A, severe, storm, hit, the, beach, .]\n",
      "[It, started, to, rain, .]\n"
     ]
    }
   ],
   "source": [
    "doc = nlp_en(u'A severe storm hit the beach. It started to rain.')\n",
    "for sent in doc.sents:\n",
    "    print([sent[i] for i in range(len(sent))])"
   ],
   "metadata": {
    "collapsed": false,
    "ExecuteTime": {
     "end_time": "2023-12-03T21:29:27.031238Z",
     "start_time": "2023-12-03T21:29:26.912990600Z"
    }
   },
   "id": "e986b611e2b70242"
  },
  {
   "cell_type": "code",
   "execution_count": 21,
   "outputs": [
    {
     "data": {
      "text/plain": "[A, severe, storm, hit, the, beach, ., It, started, to, rain, .]"
     },
     "execution_count": 21,
     "metadata": {},
     "output_type": "execute_result"
    }
   ],
   "source": [
    "[doc[i] for i in range(len(doc))]"
   ],
   "metadata": {
    "collapsed": false,
    "ExecuteTime": {
     "end_time": "2023-12-03T21:31:57.884589400Z",
     "start_time": "2023-12-03T21:31:57.776122500Z"
    }
   },
   "id": "504a09981a2820c0"
  },
  {
   "cell_type": "code",
   "execution_count": null,
   "outputs": [],
   "source": [],
   "metadata": {
    "collapsed": false
   },
   "id": "16e24f04db890044"
  }
 ],
 "metadata": {
  "kernelspec": {
   "display_name": "Python 3",
   "language": "python",
   "name": "python3"
  },
  "language_info": {
   "codemirror_mode": {
    "name": "ipython",
    "version": 2
   },
   "file_extension": ".py",
   "mimetype": "text/x-python",
   "name": "python",
   "nbconvert_exporter": "python",
   "pygments_lexer": "ipython2",
   "version": "2.7.6"
  }
 },
 "nbformat": 4,
 "nbformat_minor": 5
}
